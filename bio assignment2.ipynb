{
 "cells": [
  {
   "cell_type": "code",
   "execution_count": 7,
   "metadata": {},
   "outputs": [],
   "source": [
    "import numpy as np\n",
    "import pandas as pd\n",
    "import matplotlib.pyplot as plt\n",
    "import re \n",
    "import requests\n",
    "import math"
   ]
  },
  {
   "cell_type": "code",
   "execution_count": 14,
   "metadata": {},
   "outputs": [],
   "source": [
    "\"\"\"\n",
    "This function is for Problem 6:Sum square difference:\n",
    "Find the difference between the sum of the squares of the first one hundred natural numbers and the square of the sum.\n",
    "\n",
    "Parameters\n",
    "----------\n",
    "n: integer\n",
    "    the number of natural numbers that starts from 1\n",
    "Return\n",
    "----------\n",
    "int\n",
    "    the difference between the sum of the squares of the first one hundred natural numbers and the square of the sum\n",
    "Example\n",
    "---------\n",
    "The sum of the squares of the first ten natural numbers is,\n",
    " 1^2 + 2^2 + .......+9^2 +10^2=385\n",
    "The square of the sum of the first ten natural numbers is,\n",
    "(1+2+3...+10)^2 =55^2 =3025\n",
    "Hence the difference between the sum of the squares of the first ten natural numbers and the square of the sum is\n",
    "3025 - 385 = 2640\n",
    "Find the difference between the sum of the squares of the first one hundred natural numbers and the square of the sum.\n",
    "\"\"\"\n",
    "def function(n):\n",
    "    numberlist =np.arange(1,n+1,1)\n",
    "    sumsOfquare = np.dot(numberlist,numberlist)\n",
    "    squareOfsum = np.sum(numberlist)**2\n",
    "    diff = squareOfsum -sumsOfquare\n",
    "    return diff "
   ]
  },
  {
   "cell_type": "code",
   "execution_count": 9,
   "metadata": {},
   "outputs": [
    {
     "data": {
      "text/plain": [
       "25164150"
      ]
     },
     "execution_count": 9,
     "metadata": {},
     "output_type": "execute_result"
    }
   ],
   "source": [
    "function(100)"
   ]
  },
  {
   "cell_type": "code",
   "execution_count": 10,
   "metadata": {},
   "outputs": [],
   "source": [
    "\"\"\"\n",
    "This function is for Problem 31: Coin sums\n",
    "Return\n",
    "----------\n",
    "int\n",
    "    the possible combination of coins which the sum is 200\n",
    "    \n",
    "Example\n",
    "----------\n",
    "In the United Kingdom the currency is made up of pound (£) and pence (p). There are eight coins in general circulation:\n",
    "\n",
    "1p, 2p, 5p, 10p, 20p, 50p, £1 (100p), and £2 (200p).\n",
    "It is possible to make £2 in the following way:\n",
    "\n",
    "1×£1 + 1×50p + 2×20p + 1×5p + 1×2p + 3×1p\n",
    "\n",
    "\"\"\"\n",
    "def function():\n",
    "    ways=0\n",
    "    for m in range(200+1):\n",
    "        for n in range(100+1):\n",
    "            for p in range(40+1):\n",
    "                for q in range(20+1):\n",
    "                    for o in range(10+1):\n",
    "                        for r in range(4+1):\n",
    "                            for s in range(2+1):\n",
    "                                for t in range(1+1):\n",
    "                                    if m+2*n+5*p+10*q+20*o+50*r+100*s+200*t==200:\n",
    "                                        ways=ways+1 \n",
    "    return ways"
   ]
  },
  {
   "cell_type": "code",
   "execution_count": 11,
   "metadata": {},
   "outputs": [
    {
     "data": {
      "text/plain": [
       "73682"
      ]
     },
     "execution_count": 11,
     "metadata": {},
     "output_type": "execute_result"
    }
   ],
   "source": [
    "ways=function()\n",
    "ways"
   ]
  },
  {
   "cell_type": "code",
   "execution_count": 12,
   "metadata": {},
   "outputs": [],
   "source": [
    "\"\"\"\n",
    "This function is for Problem 72: Counting fractions\n",
    "Consider the fraction, n/d, where n and d are positive integers. \n",
    "If n<d and HCF(n,d)=1, it is called a reduced proper fraction.\n",
    "How many elements would be contained in the set of reduced proper fractions for d ≤ 1,000,000?\n",
    "\n",
    "Parameter\n",
    "----------\n",
    "n:integer\n",
    "    the d, which is also the maximum value of  dominator in the reduced proper fraction\n",
    "   \n",
    "Return\n",
    "----------\n",
    "int\n",
    "    the number of elements becontained in the set of reduced proper fractions\n",
    "Example\n",
    "----------\n",
    "If we list the set of reduced proper fractions for d ≤ 8 in ascending order of size, we get:\n",
    "1/8, 1/7, 1/6, 1/5, 1/4, 2/7, 1/3, 3/8, 2/5, 3/7, 1/2, 4/7, 3/5, 5/8, 2/3, 5/7, 3/4, 4/5, 5/6, 6/7, 7/8\n",
    "It can be seen that there are 21 elements in this set.\n",
    "\"\"\"\n",
    "#question72\n",
    "def function(n):\n",
    "    numberlist=[]\n",
    "    for i in range(2,n+1):\n",
    "        numberlist.append(1/i)\n",
    "    for q in range(n):\n",
    "        for p in range(2,n):\n",
    "            if(p<(n-q) and math.gcd(p,n-q)==1):\n",
    "                numberlist.append(p/(n-q))\n",
    "    numberlist=np.array(numberlist)\n",
    "    numberlist.sort()\n",
    "    result = np.where(numberlist== 1/3)\n",
    "    result2 = np.where(numberlist== 1/2)\n",
    "    result =result[0]\n",
    "    result2=result2[0]\n",
    "    numfraction=result2-result-1\n",
    "    return numfraction[0]"
   ]
  },
  {
   "cell_type": "code",
   "execution_count": 13,
   "metadata": {},
   "outputs": [
    {
     "data": {
      "text/plain": [
       "7295372"
      ]
     },
     "execution_count": 13,
     "metadata": {},
     "output_type": "execute_result"
    }
   ],
   "source": [
    "numfraction=function(12000)\n",
    "numfraction"
   ]
  },
  {
   "cell_type": "code",
   "execution_count": null,
   "metadata": {},
   "outputs": [],
   "source": []
  },
  {
   "cell_type": "code",
   "execution_count": null,
   "metadata": {},
   "outputs": [],
   "source": []
  }
 ],
 "metadata": {
  "kernelspec": {
   "display_name": "Python 3",
   "language": "python",
   "name": "python3"
  },
  "language_info": {
   "codemirror_mode": {
    "name": "ipython",
    "version": 3
   },
   "file_extension": ".py",
   "mimetype": "text/x-python",
   "name": "python",
   "nbconvert_exporter": "python",
   "pygments_lexer": "ipython3",
   "version": "3.7.6"
  }
 },
 "nbformat": 4,
 "nbformat_minor": 4
}
