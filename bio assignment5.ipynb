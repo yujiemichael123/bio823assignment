{
 "cells": [
  {
   "cell_type": "code",
   "execution_count": 1,
   "metadata": {},
   "outputs": [],
   "source": [
    "import requests\n",
    "import numpy as np\n",
    "import re"
   ]
  },
  {
   "cell_type": "code",
   "execution_count": 2,
   "metadata": {},
   "outputs": [],
   "source": [
    "peoplelist=[]\n",
    "for i in range (83):\n",
    "    url = 'https://swapi.dev/api/people/'+str(1+i)+'/'\n",
    "    resp=requests.get(url)\n",
    "    data=resp.json()\n",
    "    if (i !=16):\n",
    "        peoplelist.append(data['birth_year'])"
   ]
  },
  {
   "cell_type": "code",
   "execution_count": 3,
   "metadata": {},
   "outputs": [],
   "source": [
    "peoplelist=np.array(peoplelist)\n",
    "peoplelist = peoplelist[peoplelist != 'unknown']\n",
    "birthyearlist =[]\n",
    "for i in range(peoplelist.size):\n",
    "    birthyear = [re.findall(r'(\\d+)', peoplelist[i])[0]][0]\n",
    "    birthyear = int(birthyear)\n",
    "    birthyearlist.append(birthyear)\n",
    "    \n",
    "birthyearlist =np.array(birthyearlist)\n",
    "birthyearlist.sort()\n",
    "oldest=birthyearlist[0]"
   ]
  },
  {
   "cell_type": "code",
   "execution_count": 4,
   "metadata": {},
   "outputs": [
    {
     "name": "stdout",
     "output_type": "stream",
     "text": [
      "name:  Wicket Systri Warrick id:  30\n"
     ]
    }
   ],
   "source": [
    "oldestbirth = str(birthyearlist[0])+'BBY'\n",
    "find = False\n",
    "i=0\n",
    "while( find == False):\n",
    "    url = 'https://swapi.dev/api/people/'+str(1+i)+'/'\n",
    "    resp=requests.get(url)\n",
    "    data=resp.json()\n",
    "    if (i !=16 and data['birth_year']==oldestbirth):\n",
    "        oldestname =data['name']\n",
    "        find =True\n",
    "    i=i+1\n",
    "    iD =i\n",
    "print('name: ',oldestname,'id: ',iD)"
   ]
  },
  {
   "cell_type": "code",
   "execution_count": 5,
   "metadata": {},
   "outputs": [],
   "source": [
    "filelist=[]\n",
    "for i in range (6):\n",
    "    url = 'https://swapi.dev/api/films/'+str(i+1)+'/'\n",
    "    resp=requests.get(url)\n",
    "    data=resp.json()\n",
    "    character = data['characters']\n",
    "    for c in range(len(data['characters'])):\n",
    "        if (data['characters'][c]=='http://swapi.dev/api/people/30/'):\n",
    "            filelist.append(data['title'])\n"
   ]
  },
  {
   "cell_type": "code",
   "execution_count": 6,
   "metadata": {},
   "outputs": [
    {
     "data": {
      "text/plain": [
       "['Return of the Jedi']"
      ]
     },
     "execution_count": 6,
     "metadata": {},
     "output_type": "execute_result"
    }
   ],
   "source": [
    "filelist"
   ]
  }
 ],
 "metadata": {
  "kernelspec": {
   "display_name": "Python 3",
   "language": "python",
   "name": "python3"
  },
  "language_info": {
   "codemirror_mode": {
    "name": "ipython",
    "version": 3
   },
   "file_extension": ".py",
   "mimetype": "text/x-python",
   "name": "python",
   "nbconvert_exporter": "python",
   "pygments_lexer": "ipython3",
   "version": "3.7.6"
  }
 },
 "nbformat": 4,
 "nbformat_minor": 4
}
